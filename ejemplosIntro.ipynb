{
 "cells": [
  {
   "attachments": {},
   "cell_type": "markdown",
   "metadata": {},
   "source": [
    "# Introducción\n",
    "\n",
    "Ilustracion del proceso de inferencia\n",
    "\n",
    "## Proceso de aprendizaje normal-normal"
   ]
  },
  {
   "cell_type": "code",
   "execution_count": null,
   "metadata": {
    "vscode": {
     "languageId": "r"
    }
   },
   "outputs": [],
   "source": [
    "#muestra\n",
    "xbar<-40.9533\n",
    "sig2<-4\n",
    "n<-3\n",
    "\n",
    "# distribción a priori\n",
    "th0<-39\n",
    "sig20<-219.47\n",
    "\n",
    "y<-seq(35,45,length.out=200)\n",
    "f0y<-dnorm(y,th0,sqrt(sig20))\n",
    "\n",
    "# distribción a posteriori\n",
    "\n",
    "liky<-dnorm(y,xbar,sqrt(sig2/n))\n",
    "sig21<-1/(n/sig2+1/sig20)\n",
    "th1<-sig21*(n/sig2*xbar+th0/sig20)\n",
    "f1y<-dnorm(y,th1,sqrt(sig21))\n",
    "\n",
    "#graficamos\n",
    "ymax<-max(f0y,liky,f1y)\n",
    "plot(y,f0y,ylim=c(0,ymax),type=\"l\")\n",
    "lines(y,liky,lty=2,col=2)\n",
    "lines(y,f1y,lty=3,col=3)\n"
   ]
  },
  {
   "attachments": {},
   "cell_type": "markdown",
   "metadata": {},
   "source": [
    "## Proceso de aprendizaje bernoulli-beta"
   ]
  },
  {
   "cell_type": "code",
   "execution_count": null,
   "metadata": {
    "vscode": {
     "languageId": "r"
    }
   },
   "outputs": [],
   "source": [
    "#Simulacion de datos Bernoulli\n",
    "theta0 <- 0.6\n",
    "n <- 100\n",
    "x<-rbinom(n,1,theta0)\n",
    "hist(x,freq=FALSE)\n",
    "\n",
    "#Distribucion inicial para theta\n",
    "a <- 1\n",
    "b <- 1\n",
    "theta<-seq(0,1,,100)\n",
    "plot(theta,dbeta(theta,a,b),type=\"l\")\n",
    "\n",
    "#Distribucion final\n",
    "a1 <- a + sum(x)\n",
    "b1 <- b + n - sum(x)\n",
    "plot(theta,dbeta(theta,a1,b1),type=\"l\")\n",
    "\n",
    "#Ambas\n",
    "theta<-seq(0,1,,100)\n",
    "ymax <- max(dbeta(theta,a,b),dbeta(theta,a1,b1))\n",
    "plot(theta,dbeta(theta,a,b),type=\"l\",ylim=c(0,ymax))\n",
    "lines(theta,dbeta(theta,a1,b1),col=2)\n",
    "abline(v=theta0,col=4)\n",
    "\n",
    "#Aproximacion normal asintotica\n",
    "mu <- (a1-1)/(a1+b1-2)\n",
    "sig2 <- (a1-1)*(b1-1)/(a1+b1-2)^3\n",
    "lines(theta,dnorm(theta,mu,sqrt(sig2)),col=3)"
   ]
  },
  {
   "attachments": {},
   "cell_type": "markdown",
   "metadata": {},
   "source": [
    "## Aproximación Monte Carlo"
   ]
  },
  {
   "cell_type": "code",
   "execution_count": null,
   "metadata": {
    "vscode": {
     "languageId": "r"
    }
   },
   "outputs": [],
   "source": [
    "#-Ejemplo 1-\n",
    "x<-seq(-2,4,,1000)\n",
    "f<-function(x){\n",
    "  out <- 5-(x-1)^2\n",
    "  out <- ifelse (x < -1 | x>3,0,out)\n",
    "  out\n",
    "}\n",
    "plot(x,f(x)*3/44,type=\"l\",ylim=c(0,0.5))\n",
    "lines(x,dnorm(x,0,1),lty=2,col=2)\n",
    "lines(x,dnorm(x,1,2/3),lty=3,col=3)\n",
    "lines(x,dnorm(x,1,1),lty=4,col=4)\n",
    "lines(x,dnorm(x,1,2),lty=5,col=5)\n",
    "\n",
    "N<-100\n",
    "\n",
    "#Caso 1: S=Normal estandar\n",
    "mu<-0\n",
    "sig<-1\n",
    "y<-rnorm(N,mu,sig)\n",
    "I1<-mean(f(y)/dnorm(y,mu,sig))\n",
    "eI1<-sd(f(y)/dnorm(y,0,1))/sqrt(N)\n",
    "print(c(I1,eI1))\n",
    "\n",
    "#Caso 2: S=Normal no estandar\n",
    "mu<-1\n",
    "sig<-2/3\n",
    "y<-rnorm(N,mu,sig)\n",
    "I2<-mean(f(y)/dnorm(y,mu,sig))\n",
    "eI2<-sd(f(y)/dnorm(y,mu,sig))/sqrt(N)\n",
    "print(c(I2,eI2))\n",
    "\n",
    "#Caso 3: S=Normal no estandar\n",
    "mu<-1\n",
    "sig<-1\n",
    "y<-rnorm(N,mu,sig)\n",
    "I3<-mean(f(y)/dnorm(y,mu,sig))\n",
    "eI3<-sd(f(y)/dnorm(y,mu,sig))/sqrt(N)\n",
    "print(c(I3,eI3))\n",
    "\n",
    "#Caso 4: S=Normal no estandar\n",
    "mu<-1\n",
    "sig<-2\n",
    "y<-rnorm(N,mu,sig)\n",
    "I4<-mean(f(y)/dnorm(y,mu,sig))\n",
    "eI4<-sd(f(y)/dnorm(y,mu,sig))/sqrt(N)\n",
    "print(c(I4,eI4))\n",
    "\n"
   ]
  },
  {
   "cell_type": "code",
   "execution_count": null,
   "metadata": {
    "vscode": {
     "languageId": "r"
    }
   },
   "outputs": [],
   "source": [
    "#-Ejemplo 2-\n",
    "f<-function(x){\n",
    "  out<-ifelse(x<0,0,x)\n",
    "  out<-ifelse(x>1,0,out)\n",
    "  out\n",
    "}\n",
    "x<-seq(-1,2,,100)\n",
    "plot(x,f(x),type=\"l\",ylim=c(0,1.2))\n",
    "lines(x,dunif(x,0,1),col=2,lty=2)\n",
    "lines(x,dexp(x,1),col=3,lty=3)\n",
    "lines(x,dnorm(x,0.5,1/3),col=4,lty=4)\n",
    "\n",
    "N<-100\n",
    "\n",
    "#Caso 1: S=Uniforme\n",
    "y<-runif(N,0,1)\n",
    "I1<-mean(f(y)/dunif(y,0,1))\n",
    "eI1<-sd(f(y)/dunif(y,0,1))/sqrt(N)\n",
    "print(c(I1,eI1))\n",
    "\n",
    "#Caso 2: S=Exponencial\n",
    "y<-rexp(N,1)\n",
    "I2<-mean(f(y)/dexp(y,1))\n",
    "eI2<-sd(f(y)/dexp(y,1))/sqrt(N)\n",
    "print(c(I2,eI2))\n",
    "\n",
    "#Caso 3: S=Normal\n",
    "y<-rnorm(N,0.5,1/3)\n",
    "I3<-mean(f(y)/dnorm(y,0.5,1/3))\n",
    "eI3<-sd(f(y)/dnorm(y,0.5,1/3))/sqrt(N)\n",
    "print(c(I3,eI3))\n",
    "\n"
   ]
  },
  {
   "cell_type": "code",
   "execution_count": null,
   "metadata": {
    "vscode": {
     "languageId": "r"
    }
   },
   "outputs": [],
   "source": [
    "#-Muestreador de Gibbs-\n",
    "install.packages(\"bayesm\")\n",
    "library(bayesm)\n",
    "out<-rbiNormGibbs(rho=0.95)\n",
    "out<-rbiNormGibbs(rho=-0.5)"
   ]
  },
  {
   "cell_type": "code",
   "execution_count": null,
   "metadata": {
    "vscode": {
     "languageId": "r"
    }
   },
   "outputs": [],
   "source": [
    "#---------------------#\n",
    "#Mezcla de betas\n",
    "w<-seq(0.01,0.99,,100)\n",
    "pp<-0.3\n",
    "fw<-pp*dbeta(w,10,10)+(1-pp)*dbeta(w,5,0.05)\n",
    "par(mfrow=c(1,1))\n",
    "plot(w,fw,type=\"l\")"
   ]
  }
 ],
 "metadata": {
  "language_info": {
   "name": "python"
  },
  "orig_nbformat": 4
 },
 "nbformat": 4,
 "nbformat_minor": 2
}
